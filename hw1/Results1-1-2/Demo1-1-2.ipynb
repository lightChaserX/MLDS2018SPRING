{
 "cells": [
  {
   "cell_type": "code",
   "execution_count": 6,
   "metadata": {},
   "outputs": [
    {
     "name": "stdout",
     "output_type": "stream",
     "text": [
      "num of model params 21840\n",
      "Epoch [1/5], Accu:78.5700 Loss: 0.6818\n",
      "Epoch [2/5], Accu:90.2617 Loss: 0.3282\n",
      "Epoch [3/5], Accu:92.4233 Loss: 0.2593\n",
      "Epoch [4/5], Accu:93.2433 Loss: 0.2295\n",
      "Epoch [5/5], Accu:93.9617 Loss: 0.2084\n"
     ]
    },
    {
     "data": {
      "image/png": "[encoded data removed]",
      "text/plain": [
       "<matplotlib.figure.Figure at 0x7fb43469e8d0>"
      ]
     },
     "metadata": {},
     "output_type": "display_data"
    },
    {
     "data": {
      "image/png": "[encoded data removed]",
      "text/plain": [
       "<matplotlib.figure.Figure at 0x7fb43463cda0>"
      ]
     },
     "metadata": {},
     "output_type": "display_data"
    },
    {
     "name": "stdout",
     "output_type": "stream",
     "text": [
      "Accuracy of the network on the 10000 test images: 94 %\n"
     ]
    }
   ],
   "source": [
    "import os, sys\n",
    "sys.path.append('..')\n",
    "from utility import *\n",
    "import matplotlib.pyplot as plt\n",
    "import numpy as np\n",
    "\n",
    "# Hyper Parameters \n",
    "input_size    = 784\n",
    "hidden_size   = 500\n",
    "num_classes   = 10\n",
    "num_epochs    = 5\n",
    "batch_size    = 100\n",
    "learning_rate = 0.001\n",
    "num_model     = 0\n",
    "\n",
    "# MNIST Dataset \n",
    "train_dataset, test_dataset = fetch_mnist_data(dir='../data')\n",
    "\n",
    "train_loader = torch.utils.data.DataLoader(dataset=train_dataset, \n",
    "                                           batch_size=batch_size, \n",
    "                                           shuffle=True)\n",
    "\n",
    "test_loader = torch.utils.data.DataLoader(dataset=test_dataset, \n",
    "                                          batch_size=batch_size, \n",
    "                                          shuffle=False)\n",
    "\n",
    "exec('net = CNN_Net%s().cuda().double() ' % num_model)\n",
    "    \n",
    "\n",
    "print(\"num of model params %d\" % model_params(net))\n",
    "    \n",
    "criterion = nn.CrossEntropyLoss().cuda() \n",
    "optimizer = torch.optim.Adam(net.parameters(), lr=learning_rate)  \n",
    "\n",
    "##################################################################################################\n",
    "loss_total = []\n",
    "accu_total = []\n",
    "for epoch in range(num_epochs):\n",
    "    running_loss = 0.0\n",
    "    running_correct = 0\n",
    "    \n",
    "    test_loss = 0.0\n",
    "    for i, (images, labels) in enumerate(train_loader):  \n",
    "        # Convert torch tensor to Variable\n",
    "        #images = Variable(images.view(-1, 28*28))\n",
    "        images = Variable(images.type(torch.DoubleTensor)).cuda()\n",
    "        labels = Variable(labels.type(torch.LongTensor)).cuda()\n",
    "        \n",
    "        optimizer.zero_grad()\n",
    "        outputs = net(images)\n",
    "        _, pred = torch.max(outputs.data, 1)\n",
    "        \n",
    "        loss = criterion(outputs, labels)\n",
    "        loss.backward()\n",
    "    \n",
    "        running_correct += torch.sum(pred == labels.data)\n",
    "        running_loss += loss.data[0]\n",
    "        \n",
    "        optimizer.step()\n",
    "        \n",
    "    cur_accu = running_correct/len(train_loader)\n",
    "    cur_loss = running_loss/len(train_loader)\n",
    "    \n",
    "    loss_total.append(cur_loss)\n",
    "    accu_total.append(cur_accu)\n",
    "    print ('Epoch [%d/%d], Accu:%.4f Loss: %.4f' % (epoch+1, num_epochs, cur_accu, cur_loss))\n",
    "    \n",
    "\n",
    "plt.figure(1)\n",
    "plt.plot(loss_total, 'k')\n",
    "plt.figure(2)\n",
    "plt.plot(accu_total, 'k')        \n",
    "plt.show()\n",
    "    \n",
    "# Test the Model\n",
    "correct = 0\n",
    "total = 0\n",
    "for images, labels in test_loader:\n",
    "    #images = Variable(images.view(-1, 28*28))\n",
    "    images = Variable(images.type(torch.DoubleTensor)).cuda()\n",
    "    outputs = net(images)\n",
    "    _, predicted = torch.max(outputs.data, 1)\n",
    "    total += labels.size(0)\n",
    "    correct += (predicted.cpu().numpy() == labels).sum()\n",
    "\n",
    "print('Accuracy of the network on the 10000 test images: %d %%' % (100 * correct / total))\n",
    "\n",
    "# Save the Model\n",
    "torch.save(net.state_dict(), 'model.pkl') #net.load_state_dict(torch.load('model.pkl'))"
   ]
  }
 ],
 "metadata": {
  "kernelspec": {
   "display_name": "Python 3",
   "language": "python",
   "name": "python3"
  },
  "language_info": {
   "codemirror_mode": {
    "name": "ipython",
    "version": 3
   },
   "file_extension": ".py",
   "mimetype": "text/x-python",
   "name": "python",
   "nbconvert_exporter": "python",
   "pygments_lexer": "ipython3",
   "version": "3.6.4"
  }
 },
 "nbformat": 4,
 "nbformat_minor": 2
}
